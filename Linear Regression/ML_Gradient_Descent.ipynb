{
 "cells": [
  {
   "cell_type": "markdown",
   "metadata": {},
   "source": [
    "# Gradient Descent for one feature"
   ]
  },
  {
   "cell_type": "code",
   "execution_count": 2,
   "metadata": {},
   "outputs": [],
   "source": [
    "import numpy as np \n",
    "import pandas as pd"
   ]
  },
  {
   "cell_type": "code",
   "execution_count": null,
   "metadata": {},
   "outputs": [],
   "source": [
    "learning_rate = 0.001\n",
    "iterations = 100\n",
    "m = grad_descent(X,Y,learning_rate,iterations)"
   ]
  },
  {
   "cell_type": "code",
   "execution_count": 15,
   "metadata": {},
   "outputs": [],
   "source": [
    "def grad_descent(dataX,dataY,learning_rate,iterations):\n",
    "    m=0\n",
    "    c=0\n",
    "    for i in range(iterations):\n",
    "        m,c = step_gd(dataX,dataY,learning_rate,m,c)\n",
    "        print(i,\"TCost: \",cost(dataX,dataY,m,c))"
   ]
  },
  {
   "cell_type": "code",
   "execution_count": 9,
   "metadata": {},
   "outputs": [],
   "source": [
    "def step_gd(dataX,dataY,learning_rate,m,c):\n",
    "    M=len(dataX)\n",
    "    slope_m = 0\n",
    "    slope_c = 0\n",
    "    for i in range(M):\n",
    "        x=dataX[i]\n",
    "        y=dataY[i]\n",
    "        slope_m += (-2/M)*(y-m*x-c)*x\n",
    "        slope_c += (-2/M)*(y-m*x-c)\n",
    "    m = m - learning_rate*slope_m\n",
    "    c = c - learning_rate*slope_c\n",
    "    return m,c       "
   ]
  },
  {
   "cell_type": "code",
   "execution_count": 6,
   "metadata": {},
   "outputs": [],
   "source": [
    "def cost(dataX,dataY,m,c):\n",
    "    total_cost = 0\n",
    "    for i in range(len(dataX)):\n",
    "        x=dataX[i]\n",
    "        y=dataY[i]\n",
    "        total_cost += (y-m*x-c)**2\n",
    "    return total_cost    "
   ]
  }
 ],
 "metadata": {
  "kernelspec": {
   "display_name": "Python 3",
   "language": "python",
   "name": "python3"
  },
  "language_info": {
   "codemirror_mode": {
    "name": "ipython",
    "version": 3
   },
   "file_extension": ".py",
   "mimetype": "text/x-python",
   "name": "python",
   "nbconvert_exporter": "python",
   "pygments_lexer": "ipython3",
   "version": "3.7.4"
  }
 },
 "nbformat": 4,
 "nbformat_minor": 2
}
