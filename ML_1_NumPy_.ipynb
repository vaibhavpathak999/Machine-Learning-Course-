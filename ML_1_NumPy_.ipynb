{
  "nbformat": 4,
  "nbformat_minor": 0,
  "metadata": {
    "kernelspec": {
      "display_name": "Python 3",
      "language": "python",
      "name": "python3"
    },
    "language_info": {
      "codemirror_mode": {
        "name": "ipython",
        "version": 3
      },
      "file_extension": ".py",
      "mimetype": "text/x-python",
      "name": "python",
      "nbconvert_exporter": "python",
      "pygments_lexer": "ipython3",
      "version": "3.7.4"
    },
    "colab": {
      "name": "ML-1_NumPy .ipynb",
      "provenance": [],
      "include_colab_link": true
    }
  },
  "cells": [
    {
      "cell_type": "markdown",
      "metadata": {
        "id": "view-in-github",
        "colab_type": "text"
      },
      "source": [
        "<a href=\"https://colab.research.google.com/github/vaibhavpathak999/Machine-Learning-Course-/blob/master/ML_1_NumPy_.ipynb\" target=\"_parent\"><img src=\"https://colab.research.google.com/assets/colab-badge.svg\" alt=\"Open In Colab\"/></a>"
      ]
    },
    {
      "cell_type": "code",
      "metadata": {
        "id": "bBCU4Z-e7CbP",
        "colab_type": "code",
        "colab": {}
      },
      "source": [
        "import numpy as np\n",
        "import math as m"
      ],
      "execution_count": null,
      "outputs": []
    },
    {
      "cell_type": "code",
      "metadata": {
        "id": "dktOqsXp7Cbe",
        "colab_type": "code",
        "colab": {},
        "outputId": "d0a03ed2-0b47-493a-9abd-09637be402e7"
      },
      "source": [
        "a = np.array([5, 1, 2, 1])\n",
        "a.mean()"
      ],
      "execution_count": null,
      "outputs": [
        {
          "output_type": "execute_result",
          "data": {
            "text/plain": [
              "2.25"
            ]
          },
          "metadata": {
            "tags": []
          },
          "execution_count": 5
        }
      ]
    },
    {
      "cell_type": "code",
      "metadata": {
        "id": "VEn5-52O7Cbs",
        "colab_type": "code",
        "colab": {},
        "outputId": "1f7644f5-05cc-44ec-a18f-484041560652"
      },
      "source": [
        "np.sum([[0, 1], [0, 5]], axis=1)"
      ],
      "execution_count": null,
      "outputs": [
        {
          "output_type": "execute_result",
          "data": {
            "text/plain": [
              "array([1, 5])"
            ]
          },
          "metadata": {
            "tags": []
          },
          "execution_count": 6
        }
      ]
    },
    {
      "cell_type": "code",
      "metadata": {
        "id": "6DMuVa5G7Cbv",
        "colab_type": "code",
        "colab": {},
        "outputId": "835680ac-68a9-4b5e-efda-91bc360d72d5"
      },
      "source": [
        "a=np.array([1,2,3])\n",
        "a"
      ],
      "execution_count": null,
      "outputs": [
        {
          "output_type": "execute_result",
          "data": {
            "text/plain": [
              "array([1, 2, 3])"
            ]
          },
          "metadata": {
            "tags": []
          },
          "execution_count": 4
        }
      ]
    },
    {
      "cell_type": "code",
      "metadata": {
        "id": "wdzKOoCp7Cby",
        "colab_type": "code",
        "colab": {},
        "outputId": "33f4e5c0-48a1-43b2-e99d-a527fab43e13"
      },
      "source": [
        "a+2"
      ],
      "execution_count": null,
      "outputs": [
        {
          "output_type": "execute_result",
          "data": {
            "text/plain": [
              "array([3, 4, 5])"
            ]
          },
          "metadata": {
            "tags": []
          },
          "execution_count": 5
        }
      ]
    },
    {
      "cell_type": "code",
      "metadata": {
        "id": "JOkqp3Zd7Cb1",
        "colab_type": "code",
        "colab": {},
        "outputId": "de4322b6-8bd4-40de-852a-abcf10e9a31b"
      },
      "source": [
        "a**2"
      ],
      "execution_count": null,
      "outputs": [
        {
          "output_type": "execute_result",
          "data": {
            "text/plain": [
              "array([1, 4, 9], dtype=int32)"
            ]
          },
          "metadata": {
            "tags": []
          },
          "execution_count": 6
        }
      ]
    },
    {
      "cell_type": "code",
      "metadata": {
        "id": "6FHDDKRj7Cb4",
        "colab_type": "code",
        "colab": {},
        "outputId": "d878aded-1b00-4208-c7d4-8baa5c058381"
      },
      "source": [
        "b=np.array([4,5,6])\n",
        "b"
      ],
      "execution_count": null,
      "outputs": [
        {
          "output_type": "execute_result",
          "data": {
            "text/plain": [
              "array([4, 5, 6])"
            ]
          },
          "metadata": {
            "tags": []
          },
          "execution_count": 7
        }
      ]
    },
    {
      "cell_type": "code",
      "metadata": {
        "id": "roV5w2uA7Cb7",
        "colab_type": "code",
        "colab": {},
        "outputId": "9295b0ea-7f60-47bb-9f7a-e4c9bf7e579d"
      },
      "source": [
        "a/b"
      ],
      "execution_count": null,
      "outputs": [
        {
          "output_type": "execute_result",
          "data": {
            "text/plain": [
              "array([0.25, 0.4 , 0.5 ])"
            ]
          },
          "metadata": {
            "tags": []
          },
          "execution_count": 8
        }
      ]
    },
    {
      "cell_type": "code",
      "metadata": {
        "id": "OudkRjCq7Cb-",
        "colab_type": "code",
        "colab": {},
        "outputId": "1f1a2163-23e0-4518-e0cc-29a13470e8ae"
      },
      "source": [
        "a.mean()"
      ],
      "execution_count": null,
      "outputs": [
        {
          "output_type": "execute_result",
          "data": {
            "text/plain": [
              "2.0"
            ]
          },
          "metadata": {
            "tags": []
          },
          "execution_count": 10
        }
      ]
    },
    {
      "cell_type": "markdown",
      "metadata": {
        "id": "xkyqybr-7CcB",
        "colab_type": "text"
      },
      "source": [
        "sigma(x(i)-x(mean))**2"
      ]
    },
    {
      "cell_type": "code",
      "metadata": {
        "id": "n7WssvLJ7CcC",
        "colab_type": "code",
        "colab": {},
        "outputId": "e9bd57d2-3e86-46a5-c5f5-0375dd049508"
      },
      "source": [
        "deviation=((b-b.mean())**2).sum()\n",
        "deviation"
      ],
      "execution_count": null,
      "outputs": [
        {
          "output_type": "execute_result",
          "data": {
            "text/plain": [
              "2.0"
            ]
          },
          "metadata": {
            "tags": []
          },
          "execution_count": 20
        }
      ]
    },
    {
      "cell_type": "markdown",
      "metadata": {
        "id": "-Td_R7xV7CcE",
        "colab_type": "text"
      },
      "source": [
        "sqrt((x(1)-x(2))**2 + (y(1)-y(2))**2 + (z(1)-z(2))**2)"
      ]
    },
    {
      "cell_type": "code",
      "metadata": {
        "id": "aUitbA9q7CcF",
        "colab_type": "code",
        "colab": {},
        "outputId": "de8d470a-03d2-4b57-8e92-6c6f74e5b57d"
      },
      "source": [
        "distance=m.sqrt((((b-a)**2).sum()))\n",
        "distance"
      ],
      "execution_count": null,
      "outputs": [
        {
          "output_type": "execute_result",
          "data": {
            "text/plain": [
              "5.196152422706632"
            ]
          },
          "metadata": {
            "tags": []
          },
          "execution_count": 16
        }
      ]
    },
    {
      "cell_type": "code",
      "metadata": {
        "id": "sqytQFQe7CcI",
        "colab_type": "code",
        "colab": {},
        "outputId": "0314a289-a9f6-4e9f-e82d-a0c38239f09f"
      },
      "source": [
        "dotProduct = a.dot(b)\n",
        "dotProduct"
      ],
      "execution_count": null,
      "outputs": [
        {
          "output_type": "execute_result",
          "data": {
            "text/plain": [
              "32"
            ]
          },
          "metadata": {
            "tags": []
          },
          "execution_count": 21
        }
      ]
    }
  ]
}